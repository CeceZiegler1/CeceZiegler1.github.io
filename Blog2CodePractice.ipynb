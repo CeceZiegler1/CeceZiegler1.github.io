{
 "cells": [
  {
   "cell_type": "code",
   "execution_count": 3,
   "id": "4c0085b2-0d1c-423a-9d4d-99510713fbd8",
   "metadata": {},
   "outputs": [],
   "source": [
    "import numpy as np\n",
    "\n",
    "class LogisticRegression():\n",
    "\n",
    "    def pad(X): #I give credit for this method to the help section of the assignment page\n",
    "        return np.append(X, np.ones((X.shape[0], 1)), 1)\n",
    "    \n",
    "    def predict(X, w): # I give credit for this method to the class notes from 2/20\n",
    "        return X@w\n",
    "    \n",
    "    def sigmoid(z):# I give credit for this method to the class notes from 2/20\n",
    "        return 1 / (1 + np.exp(-z))\n",
    "    \n",
    "    def logistic_loss(y_hat, y): #I give credit for this method to the class notes from 2/20\n",
    "        return -y*np.log(sigmoid(y_hat)) - (1-y)*np.log(1-sigmoid(y_hat))\n",
    "\n",
    "    def loss(X, y, log_loss, w): # I give credit for this method to the class notes from 2/20\n",
    "        y_hat = predict(X, w)\n",
    "        return logistic_loss(y_hat, y).mean() #returning the total loss/empirical risk\n",
    "\n",
    "    def fit(self, X, y, alpha, max_epochs):\n",
    "        X = pad(X)\n",
    "        w = np.random.random(X.shape[1])\n",
    "        self.w = w\n",
    "\n",
    "        loss = 1\n",
    "        self.loss = loss\n",
    "\n",
    "        for i in range(max_epochs):\n",
    "            z = predict(X, self.w)\n",
    "            y_predictor = self.sigmoid(z)\n",
    "\n",
    "            #Computing gradient using derivative\n",
    "            dw = (1/(X.shape[1])) * np.dot(X.T, (y_predictor -y))\n",
    "\n",
    "            #Updating weight\n",
    "            self.w = alpha * dw\n",
    "\n",
    "            log_loss = logistic_loss(y_predictor, y)\n",
    "            self.loss = 1 - loss(X, y, log_loss, w)"
   ]
  },
  {
   "cell_type": "code",
   "execution_count": null,
   "id": "e10572b6-63a4-4a30-a7b2-c6f000ed4851",
   "metadata": {},
   "outputs": [],
   "source": []
  }
 ],
 "metadata": {
  "kernelspec": {
   "display_name": "Python [conda env:ml-0451] *",
   "language": "python",
   "name": "conda-env-ml-0451-py"
  },
  "language_info": {
   "codemirror_mode": {
    "name": "ipython",
    "version": 3
   },
   "file_extension": ".py",
   "mimetype": "text/x-python",
   "name": "python",
   "nbconvert_exporter": "python",
   "pygments_lexer": "ipython3",
   "version": "3.9.16"
  }
 },
 "nbformat": 4,
 "nbformat_minor": 5
}
