{
 "cells": [
  {
   "cell_type": "raw",
   "metadata": {},
   "source": [
    "---\n",
    "title: \"End-Of-Course Reflection\"\n",
    "type: \"Reflection\"\n",
    "date: 2023-05-14\n",
    "description: |\n",
    "    We reflect on our learning, engagement, and achievement over the course of the semester. \n",
    "objectives: \n",
    "  - Reflection\n",
    "publish: \"true\"\n",
    "---"
   ]
  },
  {
   "cell_type": "markdown",
   "metadata": {},
   "source": [
    "# Instructions\n",
    "\n",
    "- [Download this notebook](https://middlebury-csci-0451.github.io/CSCI-0451/assignments/process/end-of-course.ipynb)\n",
    "- Open the notebook in an editor of your choice. I recommend JupyterLab for this one, but you can pick. \n",
    "- Delete the first two cells of the notebook (i.e. this one and the raw cell above). \n",
    "- Briefly review the goals you set for yourself in our [goal-setting activity](goal-setting.ipynb) at the beginning of the course. You can find your goals on Canvas. \n",
    "- In the [The Data](#the-data) section, replace the blanks with brief responses. \n",
    "- In the [What you Learned](#what-you-learned) and [Reflecting on Goals](#reflecting-on-goals) sections, write down your reflections on your learning, achievement, and presence in CSCI 0451 in the provided markdown cells. \n",
    "- Take some time to reflect on your responses so far. When you're ready, move on to [propose the letter grade](#your-proposed-letter-grade) that you feel best reflects your learning, participation, and achievement in CSCI 0451. \n",
    "- Submit the notebook as a PDF on Canvas. \n",
    "- **Make an appointment with me** (use the link posted on Canvas) in which we will discuss your learning in the course and your final grade. \n",
    "\n",
    "*There are lots of ways to render Jupyter notebooks as PDFs. The simplest way is to run this at the command line, after you've navigated to the location of the notebook*: \n",
    "\n",
    "```bash\n",
    "jupyter nbconvert --to pdf end-of-course.ipynb\n",
    "```"
   ]
  },
  {
   "cell_type": "markdown",
   "metadata": {},
   "source": [
    "# CSCI 0451: End-Of-Course Reflection\n",
    "\n",
    "Cece Ziegler"
   ]
  },
  {
   "cell_type": "markdown",
   "metadata": {},
   "source": [
    "## The Data\n",
    "\n",
    "In this section I'll ask you to fill in some data. You don't have to give precise numbers -- approximate, conversational responses are fine. For example, when I ask \"how often did you attend class,\" good answers include \"almost always,\" \"I missed three times,\" \"about 75% of the time,\" \"not as often as I wanted,\" etc. \n",
    "\n",
    "### Presence in Class\n",
    "\n",
    "- *How often did you attend class? (e.g. \"almost always,\" \"I missed three times,\" etc.)* I missed two classes due to my nose injury and softball\n",
    "- *How often did you take notes on the core readings ahead of the class period?* I took notes on 100% of the core readings before class\n",
    "- *How often were you **prepared** to present the daily warm-up exercise to your team, even if you weren't actually called?* I was prepared to present the warm up activity 95% of the time.\n",
    "- *How many times did you **actually** present the daily warm-up to your team?* I presented the warmup activity around 8-10 times\n",
    "- *How many times did you ask your team for help while presenting the daily warm-up?* I asked for help one time while presenting the warm up activity\n",
    "- *How often did you learn something new from a teammate's presentation of the daily warm-up?* I learned something a handful of times from my teammate's presentations\n",
    "- *How often did you help a teammate during the daily warm-up presentation?* I helped a teammate 4-5 times during the warm up presentations\n",
    "- *Did you contribute a question for our guest speaker?* I contributed a question to our guest speaker, but it wasn't one that was selected to be asked during class.\n",
    "\n",
    "### Presence Outside of Class \n",
    "\n",
    "- *How often did you attend Student Hours or Peer Help?* I attened on average one time a week of either student help hours or peer help hours\n",
    "- *How often did you ask for or receive help from your fellow students?* I recieved help from a fellow student on one of my blog posts.\n",
    "- *Did you regularly participate in a study group outside class?* I did not participate in a study group\n",
    "- *How often did you post questions or answers in Slack?* I posted a few questons to the group in slack, and I posted many questions to Phil directly on slack for the majority of all the blog posts I completed.\n",
    "\n",
    "### Assignments and Effort\n",
    "\n",
    "- *How many blog posts did you submit?* I submitted 7 blog posts\n",
    "- *How many of your submitted blog posts are at each of the following feedback stages?*\n",
    "    - *No revisions suggested:* 4\n",
    "    - *Revisions useful:* 2\n",
    "    - *Revisions encouraged:* 0\n",
    "    - *Incomplete:* 0\n",
    "- *Roughly how many hours per week did you spend on this course outside of class?* 12\n"
   ]
  },
  {
   "cell_type": "markdown",
   "metadata": {},
   "source": [
    "## What You Learned\n",
    "\n",
    "*At the beginning of the course, you may have expressed an interest in focusing a little extra on one or two of the following four categories:* \n",
    "\n",
    "- ***Theory***: *mathematical descriptions of frameworks and algorithms.*\n",
    "- ***Implementation***: *effective coding and use of tools in order to implement efficient machine learning algorithms.*\n",
    "- ***Experimentation***: *performing experiments to assess the performance of algorithms and clearly communicating about the results.*\n",
    "- ***Social responsibility***: *critical analysis of sources of bias and harm in machine learning algorithms; theoretical formulations of fairness and bias*\n",
    "\n",
    "*Did you choose to focus on any of these categories? If so, what did you do in order to pursue your interest?*    "
   ]
  },
  {
   "cell_type": "markdown",
   "metadata": {},
   "source": [
    "[your response here]"
   ]
  },
  {
   "cell_type": "markdown",
   "metadata": {},
   "source": [
    "## Reflecting on Goals\n",
    "\n",
    "*For each of the categories below, replace the \"[your response here]\" cell with 1-2 paragraphs in which you reflect on the following questions:* \n",
    "\n",
    "- *In what ways did you **meet** your goals from the beginning of the course? Be specific: explain what the goal was and what you did to meet it.* \n",
    "- *In what ways did you **not meet** your goals from the beginning of the course? Be specific: explain what the goal was and what the gap was between what you aspired to and what happened.* \n",
    "- *If there's any **context** you want to share about how you fared relative to your goals, please do!*\n",
    "\n",
    "### Blog Posts"
   ]
  },
  {
   "cell_type": "markdown",
   "metadata": {},
   "source": [
    "[your response here]"
   ]
  },
  {
   "cell_type": "markdown",
   "metadata": {},
   "source": [
    "### Course Presence (Participation)"
   ]
  },
  {
   "cell_type": "markdown",
   "metadata": {},
   "source": [
    "[your response here]"
   ]
  },
  {
   "cell_type": "markdown",
   "metadata": {},
   "source": [
    "### Project "
   ]
  },
  {
   "cell_type": "markdown",
   "metadata": {},
   "source": [
    "[your response here]"
   ]
  },
  {
   "cell_type": "markdown",
   "metadata": {},
   "source": [
    "### Other\n",
    "\n",
    "*Is there anything else that you want to share with me about what you learned, how you participated, or what you achieved in CSCI 0451?*"
   ]
  },
  {
   "cell_type": "markdown",
   "metadata": {},
   "source": [
    "[your response here]"
   ]
  },
  {
   "cell_type": "markdown",
   "metadata": {},
   "source": [
    "# Your Proposed Letter Grade\n",
    "\n",
    "*Take 15 minutes to look back on your responses in each of the sections above. Then, make a proposal for the letter grade that you feel best reflects your learning, participation, and achievement in CSCI 0451. Here are some soundbytes to help guide your thinking:*\n",
    "\n",
    "*An **A** sounds like:* \n",
    "\n",
    "- *\"I am very proud of my time in this course.\"*\n",
    "- *\"I have grown significantly in multiple ways that matter to me.\"*\n",
    "- *\"I am ready to take the theory, techniques, and ideas of this course into my future classes, projects, hobbies, or career.\"* \n",
    "\n",
    "*A **B** sounds like:* \n",
    "\n",
    "- *\"I had some opportunities to learn more, overall I feel good about my time in this course.\"*\n",
    "- *\"I am able to explain some new things or achieve new tasks.\"*\n",
    "- *\"I can see a few ideas from this course that will be relevant for my future classes, projects, hobbies, or career.\"*\n",
    "\n",
    "*A **C** sounds like:* \n",
    "\n",
    "- *\"I often made a good effort, but I missed many opportunities to get more out of my time in this course.\"*\n",
    "- *\"I might be able to complete some new tasks related to the course content, but only with significant further guidance.\"* \n",
    "- *\"I don't see any ways to take the contents of this course into my future classes, projects, hobbies, or career.\"*\n",
    "\n",
    "*You might find that some of these soundbytes resonate and other's don't! Take some time, see what feels right, and don't be afraid to celebrate your achievements.* "
   ]
  },
  {
   "cell_type": "markdown",
   "metadata": {},
   "source": [
    "[Your proposed letter grade in this section should be based purely on demonstrations of learning that you have **already submitted**.]{.aside}\n",
    "\n",
    "> **Upon reflection, I feel that my learning, participation, and achievement in CSCI 0451 are best reflected by a grade of** ____ \n"
   ]
  },
  {
   "cell_type": "markdown",
   "metadata": {},
   "source": [
    "## (Optional) If You Are Still Working\n",
    "\n",
    "I'll cheerfully look at any work you submit by the end of the semester (last day of Finals Week) as evidence of your learning. If you wish to demonstrate more learning (and thereby support a higher proposed grade), please respond to the two prompts in this section. If not, you can skip this section. \n",
    "\n",
    "### What You're Going To Do \n",
    "\n",
    "*Please* describe here the work that you intend to complete by the end of Finals Week. This can include blog posts, further progress on your project, etc. \n",
    "\n",
    "[your response here]\n",
    "\n",
    "### Your Proposed Letter Grade Based on Planned Work\n",
    "\n",
    "> **Upon reflection, I feel that my learning, participation, and achievement in CSCI 0451,** ***if I complete the work described above by the last day of Finals Week,*** **would be best reflected by a grade of** ____ "
   ]
  }
 ],
 "metadata": {
  "kernelspec": {
   "display_name": "Python 3 (ipykernel)",
   "language": "python",
   "name": "python3"
  },
  "language_info": {
   "codemirror_mode": {
    "name": "ipython",
    "version": 3
   },
   "file_extension": ".py",
   "mimetype": "text/x-python",
   "name": "python",
   "nbconvert_exporter": "python",
   "pygments_lexer": "ipython3",
   "version": "3.9.16"
  },
  "vscode": {
   "interpreter": {
    "hash": "debe06cc0f9553f110b64dc3926c05df82dae2145b852c8422b9c04315589dcb"
   }
  }
 },
 "nbformat": 4,
 "nbformat_minor": 4
}
