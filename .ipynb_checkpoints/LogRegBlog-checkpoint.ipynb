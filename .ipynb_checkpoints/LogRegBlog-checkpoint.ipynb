{
 "cells": [
  {
   "cell_type": "raw",
   "id": "7efb3061-70ba-45a8-9a3a-9fb64caa3147",
   "metadata": {},
   "source": [
    "---\n",
    "title: Optimization for Logistic Regression\n",
    "author: Cece Ziegler\n",
    "date: '2023-02-26'\n",
    "description: \"This blog post illustrates my implementation of Logistic Regression, along with test cases to show its performance.\"\n",
    "format: html\n",
    "---"
   ]
  }
 ],
 "metadata": {
  "kernelspec": {
   "display_name": "Python [conda env:ml-0451] *",
   "language": "python",
   "name": "conda-env-ml-0451-py"
  },
  "language_info": {
   "codemirror_mode": {
    "name": "ipython",
    "version": 3
   },
   "file_extension": ".py",
   "mimetype": "text/x-python",
   "name": "python",
   "nbconvert_exporter": "python",
   "pygments_lexer": "ipython3",
   "version": "3.9.16"
  }
 },
 "nbformat": 4,
 "nbformat_minor": 5
}
