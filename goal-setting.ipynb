{
 "cells": [
  {
   "cell_type": "markdown",
   "metadata": {
    "tags": []
   },
   "source": [
    "# CSCI 0451: Reflective Goal-Setting\n",
    "\n",
    "Cece Ziegler"
   ]
  },
  {
   "cell_type": "markdown",
   "metadata": {},
   "source": [
    "## What You'll Learn\n",
    "\n",
    "*The knowledge we'll develop in CSCI 0451 can be broadly divided into four main areas:*\n",
    "\n",
    "- ***Theory***: *mathematical descriptions of frameworks and algorithms.*\n",
    "- ***Implementation***: *effective coding and use of tools in order to implement efficient machine learning algorithms.*\n",
    "- ***Experimentation***: *performing experiments to assess the performance of algorithms and clearly communicating about the results.*\n",
    "- ***Social responsibility***: *critical analysis of sources of bias and harm in machine learning algorithms; theoretical formulations of fairness and bias*\n",
    "\n",
    "*Every student should grow toward each of these areas, but you can choose to specialize if you'd like! If there are one or two of these categories on which you'd especially like to focus, list them below. Feel free to include any details that you'd like -- this can help me tailor the course content to your interests.*"
   ]
  },
  {
   "cell_type": "markdown",
   "metadata": {
    "tags": []
   },
   "source": [
    "I am interested in the experimentaion of machine learning algorithms, but with this also comes an interest in implementation. I am curious to see how effective different algorithms we create are and how different algorithms may be more beneficial for differnt types of data and data sets. I have a strong interest in data analytics, and I feel like the experimentation aspect of the course plays into this as it involves the anaylsis and communication of the performance of each algorithm which allows users of the algorithms to sucessfully analyze data. I also wish togrow my understanding of how machine learning algorithms are built to have sucessful ways to interpret and understand data. I think if I gain the understanding of how the algorithms are developed and why they works the way they do, it will also allow me to gain more out of the experimentation aspect of the class. Also, if I gain a strong understanding of implementation, I may be able to build my own algorithms to work with data sets that I am interested in."
   ]
  },
  {
   "cell_type": "markdown",
   "metadata": {},
   "source": [
    "## What You'll Achieve\n",
    "\n",
    "### Blog Posts\n",
    "\n",
    "*Most blog posts will require around 5-8 hours on average to complete, plus time for revisions in response to feedback. Blog posts will most frequently involve a mix of mathematical problem-solving, coding, experimentation, and written discussion. Some blog posts will ask you to critically discuss recent readings in an essay-like format.*"
   ]
  },
  {
   "cell_type": "markdown",
   "metadata": {},
   "source": [
    "I am going to attempt to complete each blog post to the best of my ability. I have seen from the first blog post that they will require a lot of time and effort to create a sucessful blog. I know to produce my best work on the blogs and complete the assignment to help me learn and gain a full understanding of the material, I am going to have to attend many office hours and peer tutoring sessions to help me in areas I am stuck or confused. I did this for the first blog, and it proved to be very beneficial. I am willing to put in the time and effort to understand and complete the blog posts, as the material in this course is interesting, and learning it to the best of my ability will help me as I move forward in my educations and career path. I will do my best to submit each blog post by the best by date or within 5 days of the best by date, as I know with my course scheudle and athletics, I may not always have the time do get them in on the best by date. However, I also don't want to fall too far behind, so having the goal of getting it in within 5 days I think is a reasonable expectation. I want to revise at least three of my blog posts to the no suggestions level, and more if I have the time in my schedule to do so. As I learn more and become more comfortable with the material throughout the semster, I want to go above and beyone on one of my final blog posts for the year."
   ]
  },
  {
   "cell_type": "markdown",
   "metadata": {},
   "source": [
    "### Course Presence (Participation)\n",
    "\n",
    "*You make a choice each day about how to show up for class: whether you'll be prepared, whether you'll engage with me and your peers in a constructive manner; and whether you'll be active during lecture and discussions. We will also have a special opportunity this semester to engage with a renowned expert in machine learning, algorithmic bias, and the ethics of artificial intelligence.*\n",
    "\n",
    "*An especially important form of course presence is the daily warmup. We'll spend the first 10-15 minutes of most class periods on warmup activities. You're expected to have prepared the warmup activity ahead of time (this means you'll need to have completed the readings as well). Each time, we'll sort into groups of 5-6 students, and one of you (randomly selected) will be responsible for presenting the activity on the whiteboard. If you're not feeling prepared to present the activity, you can \"pass\" to the next person, or ask for help along the way.*"
   ]
  },
  {
   "cell_type": "markdown",
   "metadata": {},
   "source": [
    "I plan to do my best to come prepared and ready to participate for each class. I will do all of the readings along with any additional readings that peak my interst. I will also complete the warm up activities to the best of my ability. I have gotten stuck on a few of the warmup questions thus far, but I will always complete as much as I can, and I will come ready to present what I have and ask for help on the questions I was unable to solve on my own. I hope to never have to pass on presenting, although there is a strong chance I will need help from my group on at leasts one question in the warmup. I will also do my best to seek help on the warm up activity questions I am stuck on prior to class, however I may not always be able to do so, as I am busy with other classes and athletics. I will also plan to frequently attend office hours and peer help hours to answer any questions I may have regarding blog posts or warm up activities. If I am unable to attend office or peer help hours, I will post any questions I have in the slack page. I will also look for a group to potentially work on assignments with. I don't really know anyone in the class, but if I can find a group, I would be happy to work with people."
   ]
  },
  {
   "cell_type": "markdown",
   "metadata": {},
   "source": [
    "### Project \n",
    "\n",
    "*To finish off the course, you'll complete a long-term project that showcases your interests and skills. You'll be free to propose and pursue a topic. My expectation is that most projects will move significantly beyond the content covered in class in some way: you might implement a new algorithm, study a complex data set in depth, or conduct a series of experiments related to assessing algorithmic bias in a certain class of algorithm. You'll be expected to complete this project in small groups (of your choosing), and update us at a few milestones along the way.*\n",
    "\n",
    "*Please share a bit about what kind of topic might excite you, and set a few goals about how you plan to show up as a constructive team-member and co-inquirer (see the [ideas](ideas.qmd) for some inspiration*). "
   ]
  },
  {
   "cell_type": "markdown",
   "metadata": {},
   "source": [
    "For my final project, I would love to do something that involves a complex data set revolving around sports. My favorite sports are baseball and hockey, and I have been facsinated by the grwoth of baseball over the years through the use of different analytic and machine learning tools to calculate predictions and form strategies. Examples of this can be seen in Money ball, along with use of present day technologies such as stat cast that computues anayltics live during games to help teams. Many metrics are also used on hitters and pitchers to strategically position players on the field or set differnt hitter/pitcher match ups based on predictive analysis of previous outcomes in similar situations. Although metrics and machine learning tools are widely used in baseball, I am not aware of the same in hockey. I would be interested in potentially finding a data set to perform some predictive analysis in hockey. I would also be interested in making a project that does something such as predict the next stanley cup or world series winners based on data and metrics from previous years. I think I will have a better grasp of more specifics and how to implement the project as the semester goes on, but I would be very interested in doing something regarding sports. I also know this is sort of a niche topic, and there may not be other people in the group that have this same interest, so I am open to other ideas as well!\n",
    "\n",
    "In terms of my goals to ensuring I am a productive group member, I will submit all of my project milestones on time. I will also work hard to find a regular time to meet with my group members. I will help to both draft and revise different sections of the project, along with helping to produce the final presentation. "
   ]
  },
  {
   "cell_type": "code",
   "execution_count": null,
   "metadata": {},
   "outputs": [],
   "source": []
  }
 ],
 "metadata": {
  "kernelspec": {
   "display_name": "Python [conda env:ml-0451] *",
   "language": "python",
   "name": "conda-env-ml-0451-py"
  },
  "language_info": {
   "codemirror_mode": {
    "name": "ipython",
    "version": 3
   },
   "file_extension": ".py",
   "mimetype": "text/x-python",
   "name": "python",
   "nbconvert_exporter": "python",
   "pygments_lexer": "ipython3",
   "version": "3.9.16"
  },
  "vscode": {
   "interpreter": {
    "hash": "debe06cc0f9553f110b64dc3926c05df82dae2145b852c8422b9c04315589dcb"
   }
  }
 },
 "nbformat": 4,
 "nbformat_minor": 4
}
