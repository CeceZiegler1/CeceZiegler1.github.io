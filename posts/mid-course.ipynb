{
 "cells": [
  {
   "cell_type": "markdown",
   "metadata": {},
   "source": [
    "# CSCI 0451: Mid-Course Reflection\n",
    "\n",
    "Cece Ziegler"
   ]
  },
  {
   "cell_type": "markdown",
   "metadata": {},
   "source": [
    "## The Data\n",
    "\n",
    "*In this section I'll ask you to fill in some data. You don't have to give precise numbers -- approximate, conversational responses are fine. For example, when I ask \"how often have you attended class,\" good answers include \"almost always,\" \"I've missed three times,\" \"about 75% of the time,\" \"not as often as I want,\" etc.* \n",
    "\n",
    "### Presence in Class\n",
    "\n",
    "- *How often have you attended class? (e.g. \"almost always,\" \"I missed three times,\" etc.)* I have attended every class\n",
    "- *How often have you taken notes on the core readings ahead of the class period?* I have taken notes on all of the core readings\n",
    "- *How often have you been **prepared** to present the daily warm-up exercise to your team, even if you weren't actually called?* I have been prepared to present the daily warm up all but one time\n",
    "- *How many times have you **actually** presented the daily warm-up to your team?* I have presented the warmup to my team 3 times\n",
    "- *How many times have you asked your team for help while presenting the daily warm-up?* I have asked my team for help while presenting once\n",
    "- *How often have you learned something new from a teammate's presentation of the daily warm-up?* I have learned something new from a teammates presentation about 2 or 3 times\n",
    "- *How often have you helped a teammate during the daily warm-up presentation?* I have helped a teammate with the daily warm up presentation twice\n",
    "\n",
    "### Presence Outside of Class \n",
    "\n",
    "- *How often have you attended Student Hours or Peer Help?* I have attended peer help hours once every week accept for one week, and I have attended office hours on average once a week\n",
    "- *How often have you asked for or received help from your fellow students?* I have asked and recieved help from another student on 2 of the blog posts\n",
    "- *Have you been regularly participating in a study group outside class?* I don't have a study group outside of class\n",
    "- *How often have you posted questions or answers in Slack?* I have posted a question to the group on slack once, and asked for questions via direct message on every blog post\n",
    "\n",
    "### Assignments and Effort\n",
    "\n",
    "- *How many blog posts have you submitted?* I have submitted 4 blog posts\n",
    "- *How many of your submitted blog posts are at each of the following feedback stages?*\n",
    "    - *No revisions suggested:* 2\n",
    "    - *Revisions useful:* 1\n",
    "    - *Revisions encouraged:* ____\n",
    "    - *Incomplete:* ____\n",
    "- *Roughly how many hours per week have you spent on this course outside of class?* 10ish, about 2 hours a day\n"
   ]
  },
  {
   "cell_type": "markdown",
   "metadata": {},
   "source": [
    "## What You've Learned\n",
    "\n",
    "*At the beginning of the course, you may have expressed an interest in focusing a little extra on one or two of the following four categories:* \n",
    "\n",
    "- ***Theory***: *mathematical descriptions of frameworks and algorithms.*\n",
    "- ***Implementation***: *effective coding and use of tools in order to implement efficient machine learning algorithms.*\n",
    "- ***Experimentation***: *performing experiments to assess the performance of algorithms and clearly communicating about the results.*\n",
    "- ***Social responsibility***: *critical analysis of sources of bias and harm in machine learning algorithms; theoretical formulations of fairness and bias*\n",
    "\n",
    "*Did you choose to focus on any of these categories? If so, what have you done in order to pursue your interest?*    "
   ]
  },
  {
   "cell_type": "markdown",
   "metadata": {},
   "source": [
    "At the beginning of the year, I said I wanted to focus on experimentation and implementation. I think I have done a good job focussing on both of these categories. For implementation, I have completed the perceptron, gradient decent and linear regression blog posts, each of which involved implementing a different machine learning algorithm. I have also persued experimentation through testing my implementation of these different algorithms, along with completing the penguin blog post in which I experimented with different algorithms to perform penguin classification. I plan to persue experimentation more through my final project as well."
   ]
  },
  {
   "cell_type": "markdown",
   "metadata": {},
   "source": [
    "## Reflecting on Goals\n",
    "\n",
    "*For each of the categories below, replace the \"[your response here]\" cell with 1-2 paragraphs in which you reflect on the following questions:* \n",
    "\n",
    "- *In what ways are you **on track to meet your goals** from the beginning of the course? Be specific: explain what the goal is and what you are doing in order to meet it.* \n",
    "- *In what ways are you **not on track to meet your goals** from the beginning of the course? Be specific: explain what the goal is and what gap you see between where you are and your goal.* \n",
    "- *If there's any **context** you want to share about how you are faring relative to your goals, please do!*\n",
    "\n",
    "### Blog Posts"
   ]
  },
  {
   "cell_type": "markdown",
   "metadata": {},
   "source": [
    "One goal I had was to complete each blog post to the best of my ability. Although I am on track to meet this goal, as I have turned in every blog post up to this point in which I have put in full effort to complete it as best as I could, I am not sure I will be able to keep up with completing every blog post. My work load has picked up in other classes, and I want to put full effort into my final project. With that being said, I will still attempt most blog posts, I am just not sure it is reasonable for me to say I am going to complete all of them. To complete the blog posts up to this point, I have spent many hours attending peer help and office hours to help me overcome obstacles I was facing with each blog post. Another goal I had was to turn in each blog post I complete within 5 days of the recommended due date. I am also on track to complete this goal, as up to this point each blog post has been turned in with in 5 days of the recommended due date. Another goal I am on track to meet is revising three of my blog posts to the no suggestions level. So far, I am working on revising my perceptron blog post to that status, and the feedback I have recieved on my other two blog posts are already at the no suggestions level."
   ]
  },
  {
   "cell_type": "markdown",
   "metadata": {},
   "source": [
    "### Course Presence (Participation)"
   ]
  },
  {
   "cell_type": "markdown",
   "metadata": {},
   "source": [
    "One goal I had for participation is to come prepared to class each day by completing the assigned readings. I am on track to meet this goal as I have read and took notes on all of the readings up to this point. Another goal I had was to complete all of the warm up activites so I never have to pass on presenting. I am on track to meet this goal, as I haven't had to pass on presenting although I did have to ask for help one time while I was presenting. Another goal I set was to frequently attend office hours and peer help sessions when needed. I have been able to do a fairly good job completing this goal, however because of my sports schedule some of the times are difficult for me to make. Because of this, I have put the slack channel to good use by asking a lot of questions. One goal that I was unsucessful in is finding a group of people to work with. There have been times at office hours or peer help sessions where I may ask a classmate a question, however I never found a set group to regularily work on assignments with. "
   ]
  },
  {
   "cell_type": "markdown",
   "metadata": {},
   "source": [
    "### Project "
   ]
  },
  {
   "cell_type": "markdown",
   "metadata": {},
   "source": [
    "One goal I had for the project is to use a complex data set involving sports. I am on track to achieve this goal because after reading other peoples project proposals, I think I will be able to find someone to work with who also wants to do a final topic regarding this topic. Another goal I have is to be a productive group member. We haven't worked in groups yet, but as the project proposal is approaching and other project deadlines will be coming up, I want to make sure I am on top of my part of the project and not letting my group members down. I think I can be on track to achieve this goal considering I have been on time with my other assignments for the class up to this point."
   ]
  },
  {
   "cell_type": "markdown",
   "metadata": {},
   "source": [
    "### Other\n",
    "\n",
    "*Is there anything else that you want to share with me about what you have learned, how you have participated, or what you have achieved in CSCI 0451?*"
   ]
  },
  {
   "cell_type": "markdown",
   "metadata": {},
   "source": [
    "I am really enjoying csci 0451. I find the topics very interesting, especially how applicable they are to real world scenarios. Another aspect of the course I really enjoyed that I didn't set as a goal in my initial blog post was the section on bias and fairness within machine learning algorithms. It is a little bit scary to think how these programs we are making can have such an adverse impact on the world if we aren't careful with the way we create the algorithms or the data we feed them. I am looking forward to the talk with our guest speaker to learn more about these issues and concerns."
   ]
  },
  {
   "cell_type": "markdown",
   "metadata": {},
   "source": [
    "## Grade and Goals\n",
    "\n",
    "*Take 15 minutes to look back on your responses in each of the sections above. Then, state the letter grade that you feel reflects your learning, participation, and achievement in CSCI 0451 **so far**. Here are some soundbytes to help guide your thinking:*\n",
    "\n",
    "### What a Grade Sounds Like\n",
    "\n",
    "*An **A** sounds like:* \n",
    "\n",
    "- *\"I am very proud of my time in this course.\"*\n",
    "- *\"I have grown significantly in multiple ways that matter to me.\"*\n",
    "- *\"I am ready to take the theory, techniques, and ideas of this course into my future classes, projects, hobbies, or career.\"* \n",
    "\n",
    "*A **B** sounds like:* \n",
    "\n",
    "- *\"I had some opportunities to learn more, overall I feel good about my time in this course.\"*\n",
    "- *\"I am able to explain some new things or achieve new tasks.\"*\n",
    "- *\"I can see a few ideas from this course that will be relevant for my future classes, projects, hobbies, or career.\"*\n",
    "\n",
    "*A **C** sounds like:* \n",
    "\n",
    "- *\"I often made a good effort, but I missed many opportunities to get more out of my time in this course.\"*\n",
    "- *\"I might be able to complete some new tasks related to the course content, but only with significant further guidance.\"* \n",
    "- *\"I don't see any ways to take the contents of this course into my future classes, projects, hobbies, or career.\"*\n",
    "\n",
    "*You might find that some of these soundbytes resonate and other's don't! Take some time, see what feels right, and don't be afraid to celebrate your achievements.* "
   ]
  },
  {
   "cell_type": "markdown",
   "metadata": {},
   "source": [
    "> **Upon reflection, I feel that my learning, participation, and achievement in CSCI 0451 (so far) are best reflected by a grade of** A"
   ]
  },
  {
   "cell_type": "markdown",
   "metadata": {},
   "source": [
    "## (Optional:) How to Improve? \n",
    "\n",
    "*You may feel disappointed by your reflection. Sometimes we don't achieve all our goals -- it happens and it's normal! If you are feeling disappointed by how you've learned, participated, or achieved in CSCI 0451, then feel free to write something about that below. Feel free to just write your feelings. If you have ideas for how to move forward, include those too! We'll talk.* "
   ]
  },
  {
   "cell_type": "markdown",
   "metadata": {},
   "source": [
    "[your response here]"
   ]
  }
 ],
 "metadata": {
  "kernelspec": {
   "display_name": "Python 3 (ipykernel)",
   "language": "python",
   "name": "python3"
  },
  "language_info": {
   "codemirror_mode": {
    "name": "ipython",
    "version": 3
   },
   "file_extension": ".py",
   "mimetype": "text/x-python",
   "name": "python",
   "nbconvert_exporter": "python",
   "pygments_lexer": "ipython3",
   "version": "3.9.16"
  },
  "vscode": {
   "interpreter": {
    "hash": "debe06cc0f9553f110b64dc3926c05df82dae2145b852c8422b9c04315589dcb"
   }
  }
 },
 "nbformat": 4,
 "nbformat_minor": 4
}
