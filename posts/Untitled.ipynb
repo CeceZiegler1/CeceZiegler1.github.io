{
 "cells": [
  {
   "cell_type": "code",
   "execution_count": 9,
   "id": "c779e7ab-1f11-4a1d-9c7f-6707ab1bb226",
   "metadata": {},
   "outputs": [],
   "source": [
    "import ezc3d\n",
    "\n",
    "file = '/Users/ceceziegler/Desktop/CeceZiegler1.github.io/000034_000363_73_191_R_008_1009.c3d'\n",
    "# read in c3d file and assign to variable c\n",
    "\n",
    "c = ezc3d.c3d(file)"
   ]
  },
  {
   "cell_type": "code",
   "execution_count": 15,
   "id": "8e0e1cc8-7264-4b48-880c-0001a5542e6c",
   "metadata": {},
   "outputs": [],
   "source": [
    "c = ezc3d.c3d(file)\n",
    "\n",
    "c.keys()\n",
    "c['header'].keys()\n",
    "c['header']['points'].keys()\n",
    "num_markers = c['header']['points']['size']"
   ]
  }
 ],
 "metadata": {
  "kernelspec": {
   "display_name": "Python [conda env:ml-0451] *",
   "language": "python",
   "name": "conda-env-ml-0451-py"
  },
  "language_info": {
   "codemirror_mode": {
    "name": "ipython",
    "version": 3
   },
   "file_extension": ".py",
   "mimetype": "text/x-python",
   "name": "python",
   "nbconvert_exporter": "python",
   "pygments_lexer": "ipython3",
   "version": "3.9.16"
  }
 },
 "nbformat": 4,
 "nbformat_minor": 5
}
