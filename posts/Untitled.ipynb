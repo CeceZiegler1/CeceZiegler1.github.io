{
 "cells": [
  {
   "cell_type": "code",
   "execution_count": 43,
   "id": "c779e7ab-1f11-4a1d-9c7f-6707ab1bb226",
   "metadata": {},
   "outputs": [
    {
     "name": "stdout",
     "output_type": "stream",
     "text": [
      "['session_swing', 'range_rear_shoulder_z', 'max_lfz', 'max_lead_shoulder_z', 'range_lead_hip_z', 'range_lead_shoulder_z', 'range_rear_hip_z', 'range_rear_shoulder_x', 'range_rear_shoulder_x', 'range_lead_shoulder_x', 'range_lead_hip_x', 'range_lead_shoulder_y', 'range_lfx', 'range_lead_hip_x', 'range_torso_pelvis_z']\n"
     ]
    }
   ],
   "source": [
    "import pandas as pd\n",
    "import numpy as np\n",
    "from sklearn.decomposition import PCA\n",
    "\n",
    "df = pd.read_csv('/Users/ceceziegler/Desktop/CeceZiegler1.github.io/biomechanics_dataset_v1.csv')\n",
    "\n",
    "X = df.drop('bat_speed_mph_max_x', axis=1)\n",
    "\n",
    "pca = PCA(n_components=15)\n",
    "pca.fit(X)\n",
    "\n",
    "loading_vectors = pca.components_[:15, :]\n",
    "\n",
    "col_names = X.columns\n",
    "\n",
    "top_10_col_names = []\n",
    "for i in range(15):\n",
    "    max_loading_idx = np.argmax(np.abs(loading_vectors[i]))\n",
    "    top_10_col_names.append(col_names[max_loading_idx])\n",
    "\n",
    "print(top_10_col_names)"
   ]
  },
  {
   "cell_type": "code",
   "execution_count": 44,
   "id": "8e0e1cc8-7264-4b48-880c-0001a5542e6c",
   "metadata": {},
   "outputs": [
    {
     "data": {
      "text/plain": [
       "['session_swing',\n",
       " 'range_rear_shoulder_z',\n",
       " 'max_lfz',\n",
       " 'max_lead_shoulder_z',\n",
       " 'range_lead_hip_z',\n",
       " 'range_lead_shoulder_z',\n",
       " 'range_rear_hip_z',\n",
       " 'range_rear_shoulder_x',\n",
       " 'range_rear_shoulder_x',\n",
       " 'range_lead_shoulder_x',\n",
       " 'range_lead_hip_x',\n",
       " 'range_lead_shoulder_y',\n",
       " 'range_lfx',\n",
       " 'range_lead_hip_x',\n",
       " 'range_torso_pelvis_z']"
      ]
     },
     "execution_count": 44,
     "metadata": {},
     "output_type": "execute_result"
    }
   ],
   "source": [
    "top_10_col_names"
   ]
  },
  {
   "cell_type": "code",
   "execution_count": null,
   "id": "1824b420-c1d0-4d24-aca8-35e4f4fde72c",
   "metadata": {},
   "outputs": [],
   "source": []
  }
 ],
 "metadata": {
  "kernelspec": {
   "display_name": "Python [conda env:ml-0451] *",
   "language": "python",
   "name": "conda-env-ml-0451-py"
  },
  "language_info": {
   "codemirror_mode": {
    "name": "ipython",
    "version": 3
   },
   "file_extension": ".py",
   "mimetype": "text/x-python",
   "name": "python",
   "nbconvert_exporter": "python",
   "pygments_lexer": "ipython3",
   "version": "3.9.16"
  }
 },
 "nbformat": 4,
 "nbformat_minor": 5
}
